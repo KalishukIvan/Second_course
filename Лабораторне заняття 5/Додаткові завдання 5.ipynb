{
 "cells": [
  {
   "cell_type": "markdown",
   "metadata": {},
   "source": [
    "# Додаткові завдання №5"
   ]
  },
  {
   "cell_type": "markdown",
   "metadata": {},
   "source": [
    "## 1 Задача 1.10.10\n",
    "Випадкова величина $\\xi$ має щiльнiсть $p(x) = e^{-2 |x|}$.\n",
    "Обчислити\n",
    "1. $\\mathsf{P}(\\xi < 1)$;\n",
    "2. $\\mathsf{P}(\\xi < 3|\\xi \\geq 2)$;\n",
    "3. $\\mathsf{E}\\xi, \\mathsf{D}\\xi$."
   ]
  },
  {
   "cell_type": "markdown",
   "metadata": {},
   "source": [
    "### 1.1 Завдання 1\n",
    "Реалізуйте випадкову величину $\\xi$ за допомогою класу [scipy.stats.rv_continuous](https://docs.scipy.org/doc/scipy/reference/generated/scipy.stats.rv_continuous.html)."
   ]
  },
  {
   "cell_type": "code",
   "execution_count": 4,
   "metadata": {},
   "outputs": [],
   "source": [
    "from scipy.stats import rv_continuous\n",
    "import numpy as np\n",
    "\n",
    "class task(rv_continuous):\n",
    "    def _pdf(self, x):\n",
    "        return np.exp(-2*abs(x))\n",
    "\n",
    "ksi = task(name='ksi')"
   ]
  },
  {
   "cell_type": "markdown",
   "metadata": {},
   "source": [
    "### 1.2 Завдання 2\n",
    "Зобразіть графічно функцію щільності та функцію розподілу отриманої випадкової величини."
   ]
  },
  {
   "cell_type": "code",
   "execution_count": 7,
   "metadata": {},
   "outputs": [
    {
     "data": {
      "image/png": "[encoded data removed]",
      "text/plain": [
       "<Figure size 1080x360 with 3 Axes>"
      ]
     },
     "metadata": {},
     "output_type": "display_data"
    }
   ],
   "source": [
    "import matplotlib.pyplot as plt\n",
    "x = np.arange(-5, 5, 0.1)\n",
    "\n",
    "thick = ksi.pdf(x)\n",
    "rosp = ksi.cdf(x)\n",
    "rand = ksi.rvs(size=10000)\n",
    "\n",
    "f,axes = plt.subplots(1,3, figsize = (15,5))\n",
    "axes[0].plot(x,thick, 'r')\n",
    "axes[1].plot(x,rosp,'b')\n",
    "axes[2].hist(rand, rwidth = 0.9, bins = 50)\n",
    "for i in range(3):\n",
    "    axes[i].grid(axis = 'y')\n",
    "plt.show()\n"
   ]
  },
  {
   "cell_type": "markdown",
   "metadata": {},
   "source": [
    "### 1.3 Завдання 3\n",
    "Розв'яжіть задачу за допомогою отриманої випадкової величини та порівняйте результати з теоретично розрахованими."
   ]
  },
  {
   "cell_type": "code",
   "execution_count": 13,
   "metadata": {},
   "outputs": [
    {
     "name": "stdout",
     "output_type": "stream",
     "text": [
      "Part 1: res = 0.9323323583816931\n",
      "Part 2: res = 0.8646647167632358\n",
      "Part 3: Expectation = 0.0\n",
      "\tDispersion = 0.49999999999999994\n"
     ]
    }
   ],
   "source": [
    "print('Part 1: res = {}'.format(ksi.cdf(1)))\n",
    "\n",
    "print('Part 2: res = {}'.format(1 - (1 - ksi.cdf(3))/(1 - ksi.cdf(2))))\n",
    "\n",
    "print('Part 3: Expectation = {}'.format(ksi.expect()))\n",
    "\n",
    "print('\\tDispersion = {}'.format(ksi.expect(lambda x : x**2) - ksi.expect()**2))"
   ]
  },
  {
   "cell_type": "markdown",
   "metadata": {},
   "source": [
    "## 2 Апроксимація числа $\\pi$ (задача Бюффона)"
   ]
  },
  {
   "cell_type": "markdown",
   "metadata": {},
   "source": [
    "Розглянемо дві паралельні прямі на площині, відстань між якими дорівнює $1$. Не втрачаючи загальності, нехай ці прямі задаються рівностями $y = 0$ та $y = 1$. Кинемо на цю площину голку довжиною $1$ так, що координата по осі $y$ її середини рівномірно розподілена на $[0,1]$, а кут між голкою та віссю $x$ (додатною піввіссю $x$) рівномірно розподілений на $[0, \\pi]$. Тоді ймовірність того, що голка перетне будь-яку з паралельних прямих, дорівнює $2/\\pi$.\n",
    "\n",
    "Реалізуйте функцію емпіричної апроксимації числа $\\pi$ за $n$ симуляцій (кидання $n$ голок). Зобразіть графічно отримані елементи: паралельні прямі та всі голки. Виділіть точки, що належать колу, окремим кольором від інших точок.\n",
    "\n",
    "Виведіть результат функції для:\n",
    "1. $n = 10$\n",
    "2. $n = 100$\n",
    "3. $n = 500$\n",
    "4. $n = 1000$"
   ]
  },
  {
   "cell_type": "code",
   "execution_count": 4,
   "metadata": {},
   "outputs": [],
   "source": [
    "# Місце для Вашого коду\n",
    "\n"
   ]
  }
 ],
 "metadata": {
  "kernelspec": {
   "display_name": "Python 3",
   "language": "python",
   "name": "python3"
  },
  "language_info": {
   "codemirror_mode": {
    "name": "ipython",
    "version": 3
   },
   "file_extension": ".py",
   "mimetype": "text/x-python",
   "name": "python",
   "nbconvert_exporter": "python",
   "pygments_lexer": "ipython3",
   "version": "3.6.3"
  }
 },
 "nbformat": 4,
 "nbformat_minor": 1
}
