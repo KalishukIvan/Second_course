{
 "cells": [
  {
   "cell_type": "markdown",
   "metadata": {},
   "source": [
    "# Домашня робота №6"
   ]
  },
  {
   "cell_type": "markdown",
   "metadata": {},
   "source": [
    "# Математичне сподівання та дисперсія"
   ]
  },
  {
   "cell_type": "markdown",
   "metadata": {},
   "source": [
    "## 1 Порівняння"
   ]
  },
  {
   "cell_type": "markdown",
   "metadata": {},
   "source": [
    "1. Реалізуйте функцію для підрахунку математичного сподівання випадкової величини $\\xi$, заданої в класі **scipy.stats**, усіма можливими способами:\n",
    "   - за допомогою методу **mean**;\n",
    "   - за допомогою методу **expect**;\n",
    "   - за допомогою методу **stats**.\n",
    "\n",
    "2. Реалізуйте функцію для підрахунку дисперсії випадкової величини $\\xi$, заданої в класі **scipy.stats**, усіма можливими способами:\n",
    "   - за допомогою методу **var**;\n",
    "   - за допомогою методу **expect** та формули для дисперсії \n",
    "$\\mathsf{D}(\\xi) = \\mathsf{E} \\left[ \\left( \\xi - \\mathsf{E}[\\xi] \\right)^2 \\right]$;\n",
    "   - за допомогою методу **expect** та формули для дисперсії\n",
    "$\\mathsf{D}(\\xi) = \\mathsf{E}[\\xi^2] - \\left( \\mathsf{E}[\\xi] \\right)^2$;\n",
    "   - за допомогою методу **stats**.\n",
    "\n",
    "3. Порахуйте математичне сподівання та дисперсію, використовуючи функції з пунктів **1., 2.**, і порівняйте (виведіть різницю) їх із теоретичними значеннями, використовуючи формули з лекцій, для таких випадкових величин:\n",
    "   - $\\xi \\sim Binom(10, 0.4)$ (біноміальний розподіл);\n",
    "   - $\\xi \\sim Geom(0.5)$ (геометричний розподіл);\n",
    "   - $\\xi \\sim Pois(0.6)$ (розподіл Пуассона);\n",
    "   - $\\xi \\sim NBinom(5, 0.4)$ (від'ємний біноміальний розподіл);\n",
    "   - $\\xi \\sim HGeom(20, 7, 12)$ (гіпергеометричний розподіл);\n",
    "   - $\\xi \\sim Unif(0, 1)$ (рівномірний розподіл);\n",
    "   - $\\xi \\sim Exp(0.5)$ (експоненційний (показниковий) розподіл);\n",
    "   - $\\xi \\sim N(0, 1)$ (нормальний розподіл);\n",
    "   - $\\xi \\sim \\Gamma(2)$ (гамма розподіл);\n",
    "   - $\\xi \\sim LogNorm(0, 1)$ (логнормальний розподіл);\n",
    "   - $\\xi \\sim B(2, 1.1)$ (бета розподіл).\n",
    "   \n",
    "   ==============================================================================================\n",
    "   - $\\xi \\sim LogNorm(x, s) \\equiv f(x, s) = \\frac{1}{sx\\sqrt{2\\pi}}\\exp(- \\frac{\\log^2(x)}{2s^2})$\n",
    "   - $ f(0, 1) = \\frac{1}{0*\\sqrt{2\\pi}}\\exp(-\\frac{\\log^2(0)}{2}) $ ???"
   ]
  },
  {
   "cell_type": "code",
   "execution_count": 2,
   "metadata": {},
   "outputs": [
    {
     "name": "stdout",
     "output_type": "stream",
     "text": [
      "binom     , expectation: 4.0, mean: 4.0, stats: 4.0\n",
      "geom      , expectation: 2.0, mean: 2.0, stats: 2.0\n",
      "poisson   , expectation: 0.6, mean: 0.6, stats: 0.6\n",
      "nbinom    , expectation: 7.5, mean: 7.5, stats: 7.5\n",
      "hypergeom , expectation: 4.2, mean: 4.2, stats: 4.2\n",
      "uniform   , expectation: 0.5, mean: 0.5, stats: 0.5\n",
      "expon     , expectation: 1.5, mean: 1.5, stats: 1.5\n",
      "norm      , expectation: 0.0, mean: 0.0, stats: 0.0\n",
      "gamma     , expectation: 2.0, mean: 2.0, stats: 2.0\n",
      "lognorm   , expectation: 2.6, mean: 2.6, stats: 2.6\n",
      "beta      , expectation: 0.65, mean: 0.65, stats: 0.65\n",
      "\n",
      "\n",
      "\n",
      "binom     , var: 2.40, exp1: 2.40, exp2: 2.40, stats: 2.40\n",
      "geom      , var: 2.00, exp1: 2.00, exp2: 2.00, stats: 2.00\n",
      "poisson   , var: 0.60, exp1: 0.60, exp2: 0.60, stats: 0.60\n",
      "nbinom    , var: 18.75, exp1: 18.75, exp2: 18.75, stats: 18.75\n",
      "hypergeom , var: 1.15, exp1: 1.15, exp2: 1.15, stats: 1.15\n",
      "uniform   , var: 0.08, exp1: 0.08, exp2: 0.08, stats: 0.08\n",
      "expon     , var: 1.00, exp1: 1.00, exp2: 1.00, stats: 1.00\n",
      "norm      , var: 1.00, exp1: 1.00, exp2: 1.00, stats: 1.00\n",
      "gamma     , var: 2.00, exp1: 2.00, exp2: 2.00, stats: 2.00\n",
      "lognorm   , var: 4.67, exp1: 4.67, exp2: 4.67, stats: 4.67\n",
      "beta      , var: 0.06, exp1: 0.06, exp2: 0.06, stats: 0.06\n"
     ]
    }
   ],
   "source": [
    "from scipy.stats import binom, geom, poisson, nbinom, hypergeom, uniform, expon, norm, gamma, lognorm, beta\n",
    "import numpy as np\n",
    "\n",
    "distributions = (binom(10, 0.4), geom(0.5), poisson(0.6), nbinom(5, 0.4), hypergeom(20, 7, 12), uniform(0, 1), expon(0.5), norm(0, 1), gamma(2), lognorm(1, 1), beta(2, 1.1))\n",
    "names = ('binom', 'geom', 'poisson', 'nbinom', 'hypergeom', 'uniform', 'expon', 'norm', 'gamma', 'lognorm', 'beta')\n",
    "def Expectation():\n",
    "    for d,n in zip(distributions, names):\n",
    "        print('{:10}, expectation: {:.2}, mean: {:.2}, stats: {:.2}'.format(n, d.expect(lambda x: x), d.mean(), d.stats(moments='m')))\n",
    "    print(\"\\n\"*2)\n",
    "\n",
    "def Variance():\n",
    "    for d, name in zip(distributions, names):\n",
    "        exi = d.expect(lambda x: x)\n",
    "        exisq = d.expect(lambda x: x**2)\n",
    "        exp1 = d.expect(lambda x: (x - exi)**2)\n",
    "        exp2 = exisq - exi**2\n",
    "        print('{:10}, var: {:.2f}, exp1: {:.2f}, exp2: {:.2f}, stats: {:.2f}'.format(name, d.var(), exp1, exp2, d.stats(moments='v')))\n",
    "    \n",
    "    \n",
    "\n",
    "Expectation()\n",
    "Variance()"
   ]
  },
  {
   "cell_type": "markdown",
   "metadata": {},
   "source": [
    "## 2 Унікальні цифри"
   ]
  },
  {
   "cell_type": "markdown",
   "metadata": {},
   "source": [
    "Нехай випадковим чином вибирають послідовно $n$ цифр (цифри можуть повторюватися, вибірка з поверненням).\n",
    "Нехай тоді випадкова величина $\\xi$ - це кількість унікальних цифр в отриманому наборі.\n",
    "\n",
    "Напишіть функцію для обрахунку математичного сподівання та дисперсії випадкової величини $\\xi$ в залежності від кількості $n$ цифр у наборі методом повного перебору.\n",
    "Виведіть результат для $n = 1, 2, 3, 4, 5, 6, 7.$"
   ]
  },
  {
   "cell_type": "code",
   "execution_count": 5,
   "metadata": {},
   "outputs": [
    {
     "name": "stdout",
     "output_type": "stream",
     "text": [
      "n: 1, expectation: 1.00, var: 0.00\n",
      "n: 2, expectation: 1.89, var: 0.10\n",
      "n: 3, expectation: 2.68, var: 0.24\n",
      "n: 4, expectation: 3.38, var: 0.40\n",
      "n: 5, expectation: 4.01, var: 0.54\n",
      "n: 6, expectation: 4.56, var: 0.67\n",
      "n: 7, expectation: 5.05, var: 0.77\n"
     ]
    }
   ],
   "source": [
    "from itertools import product\n",
    "\n",
    "def test(k, sample):\n",
    "    res = 0\n",
    "    for s in sample:\n",
    "        if len(set(s)) == k:\n",
    "            res += 1\n",
    "    return res/len(sample)\n",
    "\n",
    "\n",
    "def exp(f, p_lst, x_lst):\n",
    "    return sum([f(x_lst[i])*p_lst[i] for i in range(len(p_lst))])\n",
    "\n",
    "    \n",
    "for n in range(1, 8):\n",
    "    sample = list(product(range(1, 10), repeat=n))\n",
    "    p_lst = [test(k, sample) for k in range(1, n + 1)]\n",
    "    x_lst = list(range(1, n + 1))\n",
    "    f = \"n: {}, {}: {:.3f}\"\n",
    "    exi = exp(lambda x: x, p_lst, x_lst)\n",
    "    print('n: {}, expectation: {:.2f}, var: {:.2f}'.format(n, exi, exp(lambda x: x**2, p_lst, x_lst) - exi**2))\n"
   ]
  },
  {
   "cell_type": "markdown",
   "metadata": {},
   "source": [
    "## 3 Максимальне значення"
   ]
  },
  {
   "cell_type": "markdown",
   "metadata": {},
   "source": [
    "Нехай випадкова величина $\\xi$ - це максимальне значення після $n$ кидків грального кубика.\n",
    "\n",
    "Напишіть функцію для обрахунку математичного сподівання та дисперсії випадкової величини $\\xi$ в залежності від кількості $n$ кидків кубика методом повного перебору.\n",
    "Виведіть результат для $n = 1, 2, 3, 4, 5, 6, 7, 8, 9.$\n",
    "\n",
    "Напишіть теоретичну формулу для математичного сподівання та дисперсії випадкової величини $\\xi$.\n",
    "Порівняйте теоретичні значення з обчисленими повним перебором."
   ]
  },
  {
   "cell_type": "code",
   "execution_count": 9,
   "metadata": {},
   "outputs": [
    {
     "name": "stdout",
     "output_type": "stream",
     "text": [
      "n: 1, theor exp: 3.50, exp: 3.50, theor var: 2.92, var: 2.92\n",
      "n: 2, theor exp: 4.47, exp: 4.47, theor var: 1.97, var: 1.97\n",
      "n: 3, theor exp: 4.96, exp: 4.96, theor var: 1.31, var: 1.31\n",
      "n: 4, theor exp: 5.24, exp: 5.24, theor var: 0.91, var: 0.91\n",
      "n: 5, theor exp: 5.43, exp: 5.43, theor var: 0.66, var: 0.66\n",
      "n: 6, theor exp: 5.56, exp: 5.56, theor var: 0.49, var: 0.49\n",
      "n: 7, theor exp: 5.65, exp: 5.65, theor var: 0.38, var: 0.38\n",
      "n: 8, theor exp: 5.72, exp: 5.72, theor var: 0.29, var: 0.29\n",
      "n: 9, theor exp: 5.78, exp: 5.78, theor var: 0.23, var: 0.23\n"
     ]
    }
   ],
   "source": [
    "def get_p_lst(sample): \n",
    "    res = [0 for i in range(6)] \n",
    "    tmp = 0\n",
    "    for s in sample:\n",
    "        i = max(s) - 1\n",
    "        res[i] += 1\n",
    "        tmp+=1\n",
    "    return list(np.array(res)/tmp)\n",
    "\n",
    "\n",
    "def t_exp(n):\n",
    "    return (-sum(np.arange(1, 6)**n) + 6**(n + 1))/6**n\n",
    "\n",
    "def t_var(n):\n",
    "    return (sum([-(2*k + 1) * k**n for k in range(1, 6)]) + 6**(n+2))/6**n - t_exp(n)**2 \n",
    "\n",
    "for n in range(1, 10):\n",
    "    sample = product(range(1, 7), repeat=n)\n",
    "    p_lst = get_p_lst(sample)\n",
    "    x_lst = list(range(1, 7))\n",
    "    exi = exp(lambda x: x, p_lst, x_lst)\n",
    "    print('n: {}, theor exp: {:.2f}, exp: {:.2f}, theor var: {:.2f}, var: {:.2f}'.format(n,t_exp(n),exi,t_var(n),exp(lambda x: x**2, p_lst, x_lst) - exi**2))\n",
    "    \n"
   ]
  },
  {
   "cell_type": "markdown",
   "metadata": {},
   "source": [
    "## 4 Сума значень"
   ]
  },
  {
   "cell_type": "markdown",
   "metadata": {},
   "source": [
    "Нехай випадкова величина $\\xi$ - це сума значень після $n$ кидків грального кубика (сума цифр, що випали).\n",
    "\n",
    "Напишіть функцію для обрахунку математичного сподівання та дисперсії випадкової величини $\\xi$ в залежності від кількості $n$ кидків кубика методом повного перебору.\n",
    "Виведіть результат для $n = 1, 2, 3, 5, 7, 8.$\n",
    "\n",
    "Напишіть теоретичну формулу для математичного сподівання та дисперсії випадкової величини $\\xi$.\n",
    "Порівняйте теоретичні значення з обчисленими повним перебором."
   ]
  },
  {
   "cell_type": "code",
   "execution_count": 12,
   "metadata": {},
   "outputs": [
    {
     "name": "stdout",
     "output_type": "stream",
     "text": [
      "n: 1, theor exp: 3.50, exp: 3.50, theor var: 2.92, var: 2.92\n",
      "n: 2, theor exp: 7.00, exp: 7.00, theor var: 5.83, var: 5.83\n",
      "n: 3, theor exp: 10.50, exp: 10.50, theor var: 8.75, var: 8.75\n",
      "n: 4, theor exp: 14.00, exp: 14.00, theor var: 11.67, var: 11.67\n",
      "n: 5, theor exp: 17.50, exp: 17.50, theor var: 14.58, var: 14.58\n",
      "n: 6, theor exp: 21.00, exp: 21.00, theor var: 17.50, var: 17.50\n",
      "n: 7, theor exp: 24.50, exp: 24.50, theor var: 20.42, var: 20.42\n",
      "n: 8, theor exp: 28.00, exp: 28.00, theor var: 23.33, var: 23.33\n"
     ]
    }
   ],
   "source": [
    "def get_p_lst(n, sample):\n",
    "    tmp = 0\n",
    "    res = [0 for i in range(5*n + 1)]    \n",
    "    for s in sample:\n",
    "        i = sum(s) - n\n",
    "        res[i] += 1\n",
    "        tmp += 1\n",
    "    return list(np.array(res)/tmp)\n",
    "\n",
    "\n",
    "def t_exp(n):\n",
    "    return 3.5*n\n",
    "\n",
    "def t_var(m):\n",
    "    return (35*n)/12\n",
    "    \n",
    "\n",
    "for n in range(1, 9):\n",
    "    sample = product(range(1, 7), repeat=n)\n",
    "    p_lst = get_p_lst(n, sample)\n",
    "    x_lst = list(range(n, 6*n + 1))\n",
    "    exi = exp(lambda x: x, p_lst, x_lst)\n",
    "    print('n: {}, theor exp: {:.2f}, exp: {:.2f}, theor var: {:.2f}, var: {:.2f}'.format(n,t_exp(n),exi,t_var(n),exp(lambda x: x**2, p_lst, x_lst) - exi**2))\n",
    "    \n"
   ]
  },
  {
   "cell_type": "markdown",
   "metadata": {},
   "source": [
    "## 5 Парадокс днів народження"
   ]
  },
  {
   "cell_type": "markdown",
   "metadata": {},
   "source": [
    "Нехай маємо $n$ людей.\n",
    "Їх дні народження припадають на один з 12 місяців.\n",
    "Нехай тоді випадкова величина $\\xi$ - це кількість співпадінь місяців народжень серед цих $n$ людей.\n",
    "\n",
    "Напишіть функцію для обрахунку математичного сподівання та дисперсії випадкової величини $\\xi$ в залежності від кількості $n$ людей методом повного перебору.\n",
    "Виведіть результат для $n = 1, 2, 3, 4, 5, 6.$\n",
    "\n",
    "Для якого $n$ виконується $\\mathsf{E}\\left[ \\xi \\right] \\geq 1$?\n",
    "\n",
    "**Зауваження.** Кількість співпадінь означає кількість однакових пар. Наприклад,\n",
    "- у наборі $\\{ 1, 1, 2, 3 \\}$ є одна пара;\n",
    "- у наборі $\\{ 1, 1, 1, 3 \\}$ є три пари;\n",
    "- у наборі $\\{ 1, 1, 1, 1 \\}$ є шість пар.\n"
   ]
  },
  {
   "cell_type": "code",
   "execution_count": 28,
   "metadata": {},
   "outputs": [
    {
     "name": "stdout",
     "output_type": "stream",
     "text": [
      "n: 1, expectation: 0.000, var: 0.000\n",
      "n: 2, expectation: 0.083, var: 0.076\n",
      "n: 3, expectation: 0.250, var: 0.229\n",
      "n: 4, expectation: 0.500, var: 0.458\n",
      "n: 5, expectation: 0.833, var: 0.764\n",
      "n: 6, expectation: 1.250, var: 1.146\n",
      "\n",
      "\n",
      "Expectation greater 1, if n >= 6\n"
     ]
    }
   ],
   "source": [
    "def comb(n):\n",
    "    return (n*(n - 1))//2\n",
    "\n",
    "def get_p_lst(n, sample):\n",
    "    total = 0\n",
    "    res = [0 for i in range(comb(n) + 1)]\n",
    "    for s in sample:\n",
    "        s = list(s)\n",
    "        tmp = 0\n",
    "        for j in set(s):\n",
    "            val = s.count(j)\n",
    "            if val > 1:\n",
    "                tmp += comb(val)\n",
    "        res[tmp] += 1\n",
    "        total += 1\n",
    "    res[0] += len(list(sample))\n",
    "    return list(np.array(res) / total)\n",
    "        \n",
    "def main(N):\n",
    "    for n in range(1, N):\n",
    "        sample = product(range(1, 13), repeat=n)\n",
    "        p_lst = get_p_lst(n, sample)\n",
    "        x_lst = list(range(0, comb(n) + 1))\n",
    "        exi = exp(lambda x: x, p_lst, x_lst)\n",
    "        print('n: {}, expectation: {:.3f}, var: {:.3f}'.format(n,exi,exp(lambda x: x**2, p_lst, x_lst)-exi**2))\n",
    "\n",
    "\n",
    "main(7)\n",
    "print('\\n\\nExpectation greater 1, if n >= 6')\n",
    "\n"
   ]
  },
  {
   "cell_type": "markdown",
   "metadata": {},
   "source": []
  },
  {
   "cell_type": "code",
   "execution_count": null,
   "metadata": {},
   "outputs": [],
   "source": []
  }
 ],
 "metadata": {
  "kernelspec": {
   "display_name": "Python 3",
   "language": "python",
   "name": "python3"
  },
  "language_info": {
   "codemirror_mode": {
    "name": "ipython",
    "version": 3
   },
   "file_extension": ".py",
   "mimetype": "text/x-python",
   "name": "python",
   "nbconvert_exporter": "python",
   "pygments_lexer": "ipython3",
   "version": "3.6.3"
  }
 },
 "nbformat": 4,
 "nbformat_minor": 1
}
