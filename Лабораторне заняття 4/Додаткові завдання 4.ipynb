{
 "cells": [
  {
   "cell_type": "markdown",
   "metadata": {},
   "source": [
    "# Додаткові завдання №4"
   ]
  },
  {
   "cell_type": "markdown",
   "metadata": {},
   "source": [
    "## Задача 1.2.15\n",
    "Нехай $\\Omega = {1, 2, \\ldots, 2n}$.\n",
    "Всiм числам приписанi ймовiрностi, пропорцiйнi логарифмам цих чисел.\n",
    "Знайти цi ймовiрностi.\n",
    "Знайти ймовiрнiсть того, що в результатi експерименту з’явиться:\n",
    "1. парне число;\n",
    "2. непарне число."
   ]
  },
  {
   "cell_type": "markdown",
   "metadata": {},
   "source": [
    "### Завдання 1\n",
    "Реалізуйте випадкову величину, описану в умові задачі, за допомогою класу [scipy.stats.rv_discrete](https://docs.scipy.org/doc/scipy/reference/generated/scipy.stats.rv_discrete.html) в залежності від параметра $n$.\n",
    "\n",
    "Створіть дві випадкові величини для:\n",
    "- $n = 10$;\n",
    "- $n = 25$."
   ]
  },
  {
   "cell_type": "code",
   "execution_count": 3,
   "metadata": {},
   "outputs": [],
   "source": [
    "from scipy.stats import rv_discrete\n",
    "import numpy as np\n",
    "import matplotlib.pyplot as plt\n",
    "import math\n",
    "\n",
    "def _pair_factorial(n):\n",
    "    res = 1\n",
    "    for i in range(2, 2 * n + 1, 2):\n",
    "        res *= i\n",
    "    return res\n",
    "\n",
    "\n",
    "class task(rv_discrete):\n",
    "\n",
    "\n",
    "    def rvs(self, n, size = 1):\n",
    "        res = np.zeros(size)\n",
    "        coef = 1 / (math.log(math.factorial(2 * n)))\n",
    "        pairProb = coef * math.log(_pair_factorial(n))\n",
    "        variants = (-1,1)     # pair = 1, not pair = -1\n",
    "        for i in range(size):\n",
    "            res[i] = np.random.choice(variants, p = (1-pairProb, pairProb))\n",
    "        return res\n",
    "\n",
    "    def pmf(self, arr, n):\n",
    "        res = np.zeros(len(arr))\n",
    "        coef = 1 / (math.log(math.factorial(2 * n)))\n",
    "        pairProb = coef * math.log(_pair_factorial(n))\n",
    "        variants = (-1, 1)  # pair = 1, not pair = -1\n",
    "        for i in range(len(arr)):\n",
    "            if arr[i] == - 1:\n",
    "                res[i] = 1 - pairProb\n",
    "            elif arr[i] == 1:\n",
    "                res[i] = pairProb\n",
    "        return res\n",
    "\n",
    "    def cdf(self, arr, n):\n",
    "        res = np.zeros(len(arr))\n",
    "        coef = 1 / (math.log(math.factorial(2 * n)))\n",
    "        pairProb = coef * math.log(_pair_factorial(n))\n",
    "        for i in range(len(arr)):\n",
    "            if arr[i] < - 1:\n",
    "                res[i] = 0 \n",
    "            elif -1 <= arr[i] <= 1:\n",
    "                res[i] = pairProb\n",
    "            else:\n",
    "                res[i] = 1\n",
    "        return res\n",
    "\n",
    "    \n",
    "a = task()\n"
   ]
  },
  {
   "cell_type": "markdown",
   "metadata": {},
   "source": [
    "### Завдання 2\n",
    "Зобразіть графічно функцію щільності, функцію розподілу та гістограму $10000$ значень отриманої випадкової величини в залежності від параметра $n$:\n",
    "- $n = 10$;\n",
    "- $n = 25$."
   ]
  },
  {
   "cell_type": "code",
   "execution_count": 4,
   "metadata": {},
   "outputs": [
    {
     "data": {
      "image/png": "[encoded data removed]",
      "text/plain": [
       "<Figure size 1080x720 with 6 Axes>"
      ]
     },
     "metadata": {},
     "output_type": "display_data"
    }
   ],
   "source": [
    "def build(data):\n",
    "    f, axes = plt.subplots(2, 3, figsize = (15,10))\n",
    "    for i,n in enumerate(data):\n",
    "        rospod = task()\n",
    "        arr = np.arange(-2,2,0.5)\n",
    "        thickness = rospod.pmf(arr, n)\n",
    "        rosp = rospod.cdf(arr, n)\n",
    "        numbers = rospod.rvs(n, size=10000)\n",
    "        axes[i, 0].stem(arr, thickness, label='n = {}'.format(n))\n",
    "        axes[i, 1].plot(arr, rosp, drawstyle='steps-post', label='n = {}'.format(n))\n",
    "        axes[i, 2].hist(numbers, label='n = {}'.format(n))\n",
    "        for j in range(3):\n",
    "            axes[i, j].legend(loc=2)\n",
    "    plt.show()\n",
    "\n",
    "data = [10, 25]\n",
    "build(data)\n",
    "\n"
   ]
  },
  {
   "cell_type": "markdown",
   "metadata": {},
   "source": [
    "### Завдання 3\n",
    "Напишіть функцію для обрахунку теоретичної (через щільність отриманої випадкової величини) імовірності в залежності від параметра $n$.\n",
    "\n",
    "Виведіть результат для:\n",
    "- $n = 10$;\n",
    "- $n = 25$."
   ]
  },
  {
   "cell_type": "code",
   "execution_count": 8,
   "metadata": {},
   "outputs": [
    {
     "name": "stdout",
     "output_type": "stream",
     "text": [
      "n = 10: theoretical probability of pair number -- 0.5205046299279228, not pair -- 0.4794953700720772\n",
      "n = 25: theoretical probability of pair number -- 0.5073640739858903, not pair -- 0.49263592601410966\n"
     ]
    }
   ],
   "source": [
    "def theoretical(n):\n",
    "    rospod = task()\n",
    "    variants = (-1,1)\n",
    "    res = rospod.pmf(variants,n)\n",
    "    return res[0], res[1]\n",
    "\n",
    "\n",
    "data = [10, 25]\n",
    "for n in data:\n",
    "    a, b = theoretical(n)\n",
    "    print(\"n = {}: theoretical probability of pair number -- {}, not pair -- {}\".format(n,b,a))"
   ]
  },
  {
   "cell_type": "code",
   "execution_count": null,
   "metadata": {},
   "outputs": [],
   "source": []
  },
  {
   "cell_type": "markdown",
   "metadata": {},
   "source": [
    "### Завдання 4\n",
    "Напишіть функцію для обрахунку еміричної (симулюванням $1000000$ значень отриманої випадкової величини) імовірності в залежності від параметра $n$.\n",
    "\n",
    "Виведіть результат для:\n",
    "- $n = 10$;\n",
    "- $n = 25$."
   ]
  },
  {
   "cell_type": "code",
   "execution_count": 2,
   "metadata": {},
   "outputs": [
    {
     "name": "stdout",
     "output_type": "stream",
     "text": [
      "Empirical probability of appearance pair number -- 0.520241\n",
      "Empirical probability of appearance not pair number -- 0.47975900000000005\n",
      "Empirical probability of appearance pair number -- 0.508132\n",
      "Empirical probability of appearance not pair number -- 0.49186799999999997\n"
     ]
    }
   ],
   "source": [
    "import numpy, math\n",
    "def empirical(n):\n",
    "    coef = 1 / (math.log(math.factorial(2 * n)))\n",
    "    res = 0\n",
    "    nums = [i for i in range(1, 2 * n + 1)]\n",
    "    for i in range(1000000):\n",
    "        tmp = numpy.random.choice(nums, p=[coef * math.log(i) for i in nums])\n",
    "        if tmp % 2 == 0:\n",
    "            res += 1\n",
    "    print(\"Empirical probability of appearance pair number -- {}\".format(res / 1000000))\n",
    "    print(\"Empirical probability of appearance not pair number -- {}\".format(1 - res / 1000000))\n",
    "    \n",
    "empirical(10)\n",
    "empirical(25)\n"
   ]
  }
 ],
 "metadata": {
  "kernelspec": {
   "display_name": "Python 3",
   "language": "python",
   "name": "python3"
  },
  "language_info": {
   "codemirror_mode": {
    "name": "ipython",
    "version": 3
   },
   "file_extension": ".py",
   "mimetype": "text/x-python",
   "name": "python",
   "nbconvert_exporter": "python",
   "pygments_lexer": "ipython3",
   "version": "3.6.3"
  }
 },
 "nbformat": 4,
 "nbformat_minor": 1
}
