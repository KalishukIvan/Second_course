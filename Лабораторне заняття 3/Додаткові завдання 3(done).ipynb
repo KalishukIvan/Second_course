{
 "cells": [
  {
   "cell_type": "markdown",
   "metadata": {},
   "source": [
    "# Додаткові завдання №3"
   ]
  },
  {
   "cell_type": "markdown",
   "metadata": {},
   "source": [
    "## 1 Перевірка взаємної простоти двох чисел\n",
    "Реалізуйте алгоритм Евкліда для перевірки взаємної простоти двох чисел (у вигляді функції від двох аргументів).\n",
    "Виконайте друге завдання з **Домашньої роботи №3** (**Задача 1.3.14**) з використанням даної функції."
   ]
  },
  {
   "cell_type": "code",
   "execution_count": 1,
   "metadata": {},
   "outputs": [
    {
     "name": "stdout",
     "output_type": "stream",
     "text": [
      "n = 25; k = 5, p = 3, q = 4\n",
      "Theoretical probability that all numbers in 5 will be divisible by 3 -- 0.001054018445322793\n",
      "Empirical probability that all numbers in 5 will be divisible by 3 -- 0.00326\n",
      "Theoretical probability that all numbers in 5 will be divisible by 3 -- 0.0011669489930359496\n",
      "Empirical probability that all numbers in 5 will be divisible by 3 or 4 -- 0.10832\n",
      "Theoretical probability that any number in 5 will be divisible by 3 -- 0.8835309617918313\n",
      "Empirical probability that any number in 5 will be divisible by 3 -- 0.85266\n",
      "n = 25; k = 10, p = 3, q = 4\n",
      "Theoretical probability that all numbers in 10 will be divisible by 3 -- 0.0\n",
      "Empirical probability that all numbers in 10 will be divisible by 3 -- 1e-05\n",
      "Theoretical probability that all numbers in 10 will be divisible by 3 -- 0.0\n",
      "Empirical probability that all numbers in 10 will be divisible by 3 or 4 -- 0.01123\n",
      "Theoretical probability that any number in 10 will be divisible by 3 -- 0.9940503432494279\n",
      "Empirical probability that any number in 10 will be divisible by 3 -- 0.9787\n"
     ]
    }
   ],
   "source": [
    "import itertools, numpy\n",
    "\n",
    "def gcd(a,b):\n",
    "    if b == 0:\n",
    "        return a\n",
    "    else:\n",
    "        return gcd(b , a%b)\n",
    "\n",
    "def task_1_3_14(n,k,p,q):\n",
    "    c = [i for i in range(n)]\n",
    "    comb = itertools.combinations\n",
    "\n",
    "    def _part_1():\n",
    "        theoreticalProb = len(list(comb(c[:(n//p)],k))) / len(list(comb(c,k)))\n",
    "        print(\"Theoretical probability that all numbers in {} will be divisible by {} -- {}\".format(k, p,theoreticalProb))\n",
    "\n",
    "        res = 0\n",
    "        for i in range(100000):\n",
    "            tmp = numpy.random.randint(1,n+1,size = k)\n",
    "            if all(gcd(j,p) != 1 for j in tmp):\n",
    "                res += 1\n",
    "        print(\"Empirical probability that all numbers in {} will be divisible by {} -- {}\".format(k, p, res/100000))\n",
    "\n",
    "    def _part_2():\n",
    "        theoreticalProb = len(list(comb(c[:(n // p)], k))) + len(list(comb(c[:(n // q)], k)))\n",
    "        theoreticalProb = (theoreticalProb - len(list(comb(c[:(n // (p*q))], k)))) / len(list(comb(c, k)))\n",
    "        print(\"Theoretical probability that all numbers in {} will be divisible by {} -- {}\".format(k, p, theoreticalProb))\n",
    "\n",
    "        res = 0\n",
    "        for i in range(100000):\n",
    "            tmp = numpy.random.randint(1, n + 1, size=k)\n",
    "            if all(gcd(j,p) != 1 or gcd(j,q) != 1 for j in tmp):\n",
    "                res += 1\n",
    "        print(\"Empirical probability that all numbers in {} will be divisible by {} or {} -- {}\".format(k, p, q, res / 100000))\n",
    "\n",
    "    def _part_3():\n",
    "\n",
    "        theoreticalProb = 1 - len(list(comb(c[:(n - n // p)], k))) / len(list(comb(c, k)))\n",
    "        print(\"Theoretical probability that any number in {} will be divisible by {} -- {}\".format(k, p, theoreticalProb))\n",
    "\n",
    "        res = 0\n",
    "        for i in range(100000):\n",
    "            tmp = numpy.random.randint(1, n + 1, size=k)\n",
    "            if any(gcd(j,p) != 1 for j in tmp):\n",
    "                res += 1\n",
    "        print(\"Empirical probability that any number in {} will be divisible by {} -- {}\".format(k, p, res / 100000))\n",
    "    print(\"n = {}; k = {}, p = {}, q = {}\".format(n,k,p,q))\n",
    "    _part_1()\n",
    "    _part_2()\n",
    "    _part_3()\n",
    "\n",
    "task_1_3_14(25,5,3,4)\n",
    "task_1_3_14(25,10,3,4)\n"
   ]
  },
  {
   "cell_type": "markdown",
   "metadata": {},
   "source": [
    "## 2 Аналіз функцій з класу *numpy.random*\n",
    "Проаналізуйте взаємозв'язок між функціями з класу **numpy.random**:\n",
    "- [rand](https://docs.scipy.org/doc/numpy-1.14.1/reference/generated/numpy.random.rand.html)\n",
    "- [randint](https://docs.scipy.org/doc/numpy-1.14.1/reference/generated/numpy.random.randint.html)\n",
    "- [random_integers](https://docs.scipy.org/doc/numpy-1.14.1/reference/generated/numpy.random.random_integers.html)\n",
    "- [random_sample](https://docs.scipy.org/doc/numpy-1.14.1/reference/generated/numpy.random.random_sample.html)\n",
    "- [random](https://docs.scipy.org/doc/numpy-1.14.1/reference/generated/numpy.random.random.html)\n",
    "- [ranf](https://docs.scipy.org/doc/numpy-1.14.1/reference/generated/numpy.random.ranf.html)\n",
    "- [sample](https://docs.scipy.org/doc/numpy-1.14.1/reference/generated/numpy.random.sample.html)\n",
    "- [choice](https://docs.scipy.org/doc/numpy-1.14.1/reference/generated/numpy.random.choice.html)\n",
    "- [shuffle](https://docs.scipy.org/doc/numpy-1.14.1/reference/generated/numpy.random.shuffle.html)\n",
    "- [permutation](https://docs.scipy.org/doc/numpy-1.14.1/reference/generated/numpy.random.permutation.html)"
   ]
  },
  {
   "cell_type": "code",
   "execution_count": 2,
   "metadata": {
    "collapsed": true
   },
   "outputs": [],
   "source": [
    "rand(m,n) - gives us matrix[m][n] of random numbers in range [0,1) or if m,n missed gives us random number in [0,1)\n",
    "randint(low,high,size) - gives us list len size of random numbers in range [low,high)\n",
    "random_integers() - gives us list len size of random numbers in range [low,high] (high and low inclusive)\n",
    "random_sample - aliase to rand (same type, but different names)\n",
    "ranf == rand == random_sample == random\n",
    "shuffle == permutation -- randomly mixes our array\n",
    "choice(a,size,prob,replace) -- gives us random sublist len size of list a, in which prob of all elements equivalent to elements with same indexes in prob, and if replace == true you get array without same numbers \n",
    "                                                                   \n",
    "                                                                \n",
    "\n"
   ]
  }
 ],
 "metadata": {
  "kernelspec": {
   "display_name": "Python 3",
   "language": "python",
   "name": "python3"
  },
  "language_info": {
   "codemirror_mode": {
    "name": "ipython",
    "version": 3
   },
   "file_extension": ".py",
   "mimetype": "text/x-python",
   "name": "python",
   "nbconvert_exporter": "python",
   "pygments_lexer": "ipython3",
   "version": "3.6.3"
  }
 },
 "nbformat": 4,
 "nbformat_minor": 1
}
