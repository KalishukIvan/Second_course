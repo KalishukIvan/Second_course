{
 "cells": [
  {
   "cell_type": "markdown",
   "metadata": {},
   "source": [
    "# Домашня робота №3\n",
    "Будемо використовувати *Збірник задач з теорії ймовірностей та математичної статистики: навч. посібник / В.В. Голомозий, М.В. Карташов, К.В. Ральченко. – К.: Видавничо-поліграфічний центр «Київський університет», 2015. – 366 с.*\n",
    "Електронну версію збірника можна знайти [тут](http://probability.univ.kiev.ua/userfiles/kmv/gkr-problems.pdf)."
   ]
  },
  {
   "cell_type": "markdown",
   "metadata": {},
   "source": [
    "## 1 Задача 1.3.12\n",
    "Знайти ймовiрнiсть того, що серед трьох цифр, кожна з яких вибрана навмання, буде лише 1, 2, 3 рiзних.\n",
    "\n",
    "Обчисліть теоретичну (повним перебором) та еміричну (симулюванням $100000$ експериментів) імовірності."
   ]
  },
  {
   "cell_type": "code",
   "execution_count": 1,
   "metadata": {},
   "outputs": [
    {
     "name": "stdout",
     "output_type": "stream",
     "text": [
      "Theoretical probability of 1 different numbers is -- 0.01\n",
      "Empirical probability of 1 different numbers is -- 0.00992\n",
      "Theoretical probability of 2 different numbers is -- 0.27\n",
      "Empirical probability of 2 different numbers is -- 0.27155\n",
      "Theoretical probability of 3 different numbers is -- 0.72\n",
      "Empirical probability of 3 different numbers is -- 0.7201\n"
     ]
    }
   ],
   "source": [
    "import itertools\n",
    "import numpy\n",
    "\n",
    "def task_1_3_12(n):\n",
    "    theorethicalProb = 0\n",
    "    all_comb = list(itertools.product('0123456789',repeat = 3))\n",
    "    for i in all_comb:\n",
    "        if len(set(i)) == n:\n",
    "            theorethicalProb += 1\n",
    "    print(\"Theoretical probability of {} different numbers is -- {}\".format(n, theorethicalProb/len(all_comb)))\n",
    "\n",
    "    res = 0\n",
    "    for i in range(100000):\n",
    "        tmp = numpy.random.randint(0,10,size = 3)\n",
    "        if len(set(tmp)) == n:\n",
    "            res += 1\n",
    "    print(\"Empirical probability of {} different numbers is -- {}\".format(n, res/100000))\n",
    "\n",
    "task_1_3_12(1)\n",
    "task_1_3_12(2)\n",
    "task_1_3_12(3)\n"
   ]
  },
  {
   "cell_type": "markdown",
   "metadata": {},
   "source": [
    "# 2 Задача 1.3.14\n",
    "З послiдовностi чисел $1, 2, . . . , n$ вибирають навмання $k$ рiзних чисел.\n",
    "Яка ймовiрнiсть того, що:\n",
    "1. кожне з вибраних чисел кратне даному числу $p$;\n",
    "2. кожне з вибраних чисел кратне хоча б одному з двох взаємно простих чисел $p$ i $q$;\n",
    "3. серед вибраних чисел є хоча б одне кратне $p$?\n",
    "\n",
    "Напишіть  відповідні функції для обрахунку теоретичної (повним перебором) та еміричної (симулюванням $100000$ експериментів) імовірностей в залежності від параметрів $n, k, p, q$.\n",
    "Виведіть результат для\n",
    "- $n = 25, k = 5, p = 3, q = 4$;\n",
    "- $n = 25, k = 10, p = 3, q = 4$."
   ]
  },
  {
   "cell_type": "code",
   "execution_count": 1,
   "metadata": {},
   "outputs": [
    {
     "name": "stdout",
     "output_type": "stream",
     "text": [
      "n = 25; k = 5, p = 3, q = 4\n",
      "Theoretical probability that all numbers in 5 will be divisible by 3 -- 0.001054018445322793\n",
      "Empirical probability that all numbers in 5 will be divisible by 3 -- 0.00322\n",
      "Theoretical probability that all numbers in 5 will be divisible by 3 -- 0.0011669489930359496\n",
      "Empirical probability that all numbers in 5 will be divisible by 3 or 4 -- 0.02567\n",
      "Theoretical probability that any number in 5 will be divisible by 3 -- 0.8835309617918313\n",
      "Empirical probability that any number in 5 will be divisible by 3 -- 0.85428\n",
      "n = 25; k = 10, p = 3, q = 4\n",
      "Theoretical probability that all numbers in 10 will be divisible by 3 -- 0.0\n",
      "Empirical probability that all numbers in 10 will be divisible by 3 -- 1e-05\n",
      "Theoretical probability that all numbers in 10 will be divisible by 3 -- 0.0\n",
      "Empirical probability that all numbers in 10 will be divisible by 3 or 4 -- 0.00066\n",
      "Theoretical probability that any number in 10 will be divisible by 3 -- 0.9940503432494279\n",
      "Empirical probability that any number in 10 will be divisible by 3 -- 0.97942\n"
     ]
    }
   ],
   "source": [
    "import itertools, numpy\n",
    "def task_1_3_14(n,k,p,q):\n",
    "    c = [i for i in range(n)]\n",
    "    comb = itertools.combinations\n",
    "\n",
    "    def _part_1():\n",
    "        theoreticalProb = len(list(comb(c[:(n//p)],k))) / len(list(comb(c,k)))\n",
    "        print(\"Theoretical probability that all numbers in {} will be divisible by {} -- {}\".format(k, p,theoreticalProb))\n",
    "\n",
    "        res = 0\n",
    "        for i in range(100000):\n",
    "            tmp = numpy.random.randint(1,n+1,size = k)\n",
    "            if all(j % p == 0 for j in tmp):\n",
    "                res += 1\n",
    "        print(\"Empirical probability that all numbers in {} will be divisible by {} -- {}\".format(k, p, res/100000))\n",
    "\n",
    "    def _part_2():\n",
    "        theoreticalProb = len(list(comb(c[:(n // p)], k))) + len(list(comb(c[:(n // q)], k)))\n",
    "        theoreticalProb = (theoreticalProb - len(list(comb(c[:(n // (p*q))], k)))) / len(list(comb(c, k)))\n",
    "        print(\"Theoretical probability that all numbers in {} will be divisible by {} -- {}\".format(k, p, theoreticalProb))\n",
    "\n",
    "        res = 0\n",
    "        for i in range(100000):\n",
    "            tmp = numpy.random.randint(1, n + 1, size=k)\n",
    "            if all(j % p == 0 or j%q == 0 for j in tmp):\n",
    "                res += 1\n",
    "        print(\"Empirical probability that all numbers in {} will be divisible by {} or {} -- {}\".format(k, p, q, res / 100000))\n",
    "\n",
    "    def _part_3():\n",
    "\n",
    "        theoreticalProb = 1 - len(list(comb(c[:(n - n // p)], k))) / len(list(comb(c, k)))\n",
    "        print(\"Theoretical probability that any number in {} will be divisible by {} -- {}\".format(k, p, theoreticalProb))\n",
    "\n",
    "        res = 0\n",
    "        for i in range(100000):\n",
    "            tmp = numpy.random.randint(1, n + 1, size=k)\n",
    "            if any(j % p == 0 for j in tmp):\n",
    "                res += 1\n",
    "        print(\"Empirical probability that any number in {} will be divisible by {} -- {}\".format(k, p, res / 100000))\n",
    "    print(\"n = {}; k = {}, p = {}, q = {}\".format(n,k,p,q))\n",
    "    _part_1()\n",
    "    _part_2()\n",
    "    _part_3()\n",
    "\n",
    "task_1_3_14(25,5,3,4)\n",
    "task_1_3_14(25,10,3,4)\n",
    "\n"
   ]
  },
  {
   "cell_type": "markdown",
   "metadata": {},
   "source": [
    "# 3 Задача 1.4.6\n",
    "В коморi знаходяться $n$ пар черевикiв.\n",
    "З них випадковим чином вибираються $2k$ черевикiв.\n",
    "Яка ймовiрнiсть того, що серед вибраних черевикiв:\n",
    "1. вiдсутнi парнi;\n",
    "2. є рiвно одна комплектна пара;\n",
    "3. є двi комплектнi пари?\n",
    "\n",
    "Напишіть  відповідні функції для обрахунку теоретичної (повним перебором) та еміричної (симулюванням $100000$ експериментів) імовірностей в залежності від параметрів $n, k$.\n",
    "Виведіть результат для\n",
    "- $n = 8, k = 4$;\n",
    "- $n = 13, k = 5$."
   ]
  },
  {
   "cell_type": "code",
   "execution_count": 1,
   "metadata": {},
   "outputs": [
    {
     "name": "stdout",
     "output_type": "stream",
     "text": [
      "n - 8, k - 4\n",
      "Theoretical probability of 0 pairs -- 0.6153846153846154 \n",
      "Theoretical probability of 1 pairs -- 0.36923076923076925 \n",
      "Theoretical probability of 2 pairs -- 0.015384615384615385 \n",
      "Empirical probability of 0 pairs  -- 0.61567 \n",
      "Empirical probability of 1 pairs  -- 0.3691 \n",
      "Empirical probability of 2 pairs  -- 0.01523 \n",
      "\n",
      "\n",
      "n - 13, k - 5\n",
      "Theoretical probability of 0 pairs -- 0.6260869565217392 \n",
      "Theoretical probability of 1 pairs -- 0.34782608695652173 \n",
      "Theoretical probability of 2 pairs -- 0.02608695652173913 \n",
      "Empirical probability of 0 pairs  -- 0.62513 \n",
      "Empirical probability of 1 pairs  -- 0.34892 \n",
      "Empirical probability of 2 pairs  -- 0.02595 \n",
      "\n",
      "\n"
     ]
    }
   ],
   "source": [
    "import itertools, numpy\n",
    "    \n",
    "def task_1_4_6(n,k):\n",
    "    def _test(comb,res):\n",
    "        if len(comb) == len(set(comb)):\n",
    "            res[0] += 1\n",
    "        elif len(comb) == len(set(comb)) + 1:\n",
    "            res[1] += 1\n",
    "        elif len(comb) == len(set(comb)) + 2:\n",
    "            res[2] += 1\n",
    "\n",
    "    nums = [i for i in range(n)] * 2\n",
    "    combinations = list(itertools.combinations(nums,k))\n",
    "    test_th = [0,0,0]\n",
    "    for i in combinations:\n",
    "        _test(i,test_th)\n",
    "\n",
    "    print(\"n - {}, k - {}\".format(n,k))\n",
    "    for i in range(len(test_th)):\n",
    "        print(\"Theoretical probability of {} pairs -- {} \".format(i, test_th[i]/len(combinations)))\n",
    "\n",
    "    test_emp = [0,0,0]\n",
    "    for i in range(100000):\n",
    "        comb = numpy.random.choice(nums, size = k, replace=False)\n",
    "        _test(comb,test_emp)\n",
    "\n",
    "    for i in range(len(test_th)):\n",
    "        print(\"Empirical probability of {} pairs  -- {} \".format(i, test_emp[i] / 100000))\n",
    "\n",
    "    print(\"\\n\")\n",
    "\n",
    "\n",
    "task_1_4_6(8,4)\n",
    "task_1_4_6(13,5)\n"
   ]
  },
  {
   "cell_type": "markdown",
   "metadata": {},
   "source": [
    "# 4 Задача 1.2.15\n",
    "Нехай $\\Omega = {1, 2, \\ldots, 2n}$.\n",
    "Всiм числам приписанi ймовiрностi, пропорцiйнi логарифмам цих чисел.\n",
    "Знайти цi ймовiрностi.\n",
    "Знайти ймовiрнiсть того, що в результатi експерименту з’явиться:\n",
    "1. парне число;\n",
    "2. непарне число.\n",
    "\n",
    "Напишіть функцію для обрахунку еміричної (симулюванням $100000$ експериментів) імовірності в залежності від параметра $n$.\n",
    "Виведіть результат для\n",
    "- $n = 10$;\n",
    "- $n = 25$."
   ]
  },
  {
   "cell_type": "code",
   "execution_count": 1,
   "metadata": {},
   "outputs": [
    {
     "name": "stdout",
     "output_type": "stream",
     "text": [
      "n = 10\n",
      "Theoretical probability of appearance pair number -- 0.5205046299279228\n",
      "Theoretical probability of appearance not pair number -- 0.4794953700720772\n",
      "Empirical probability of appearance pair number -- 0.52014\n",
      "Empirical probability of appearance not pair number -- 0.47985999999999995\n",
      "n = 25\n",
      "Theoretical probability of appearance pair number -- 0.5073640739858903\n",
      "Theoretical probability of appearance not pair number -- 0.49263592601410966\n",
      "Empirical probability of appearance pair number -- 0.50438\n",
      "Empirical probability of appearance not pair number -- 0.49561999999999995\n"
     ]
    }
   ],
   "source": [
    "def task_1_2_15(n):\n",
    "    import math, numpy\n",
    "    def _pair_factorial():\n",
    "        res = 1\n",
    "        for i in range(2,2*n+1,2):\n",
    "            res *= i\n",
    "        return res\n",
    "\n",
    "    coef = 1 / (math.log(math.factorial(2*n)))\n",
    "    theoreticalProbabilityPair = coef * math.log(_pair_factorial())\n",
    "    print(\"Theoretical probability of appearance pair number -- {}\".format(theoreticalProbabilityPair))\n",
    "    print(\"Theoretical probability of appearance not pair number -- {}\".format(1-theoreticalProbabilityPair))\n",
    "\n",
    "    res = 0\n",
    "    nums = [i for i in range(1,2*n+1)]\n",
    "    for i in range(100000):\n",
    "        tmp = numpy.random.choice(nums, p = [coef * math.log(i) for i in nums])\n",
    "        if tmp % 2 == 0:\n",
    "            res += 1\n",
    "    print(\"Empirical probability of appearance pair number -- {}\".format(res/100000))\n",
    "    print(\"Empirical probability of appearance not pair number -- {}\".format(1 - res/100000))\n",
    "\n",
    "print(\"n = 10\")\n",
    "task_1_2_15(10)\n",
    "print(\"n = 25\")\n",
    "task_1_2_15(25)\n",
    "\n"
   ]
  }
 ],
 "metadata": {
  "kernelspec": {
   "display_name": "Python 3",
   "language": "python",
   "name": "python3"
  },
  "language_info": {
   "codemirror_mode": {
    "name": "ipython",
    "version": 3
   },
   "file_extension": ".py",
   "mimetype": "text/x-python",
   "name": "python",
   "nbconvert_exporter": "python",
   "pygments_lexer": "ipython3",
   "version": "3.6.3"
  }
 },
 "nbformat": 4,
 "nbformat_minor": 1
}
