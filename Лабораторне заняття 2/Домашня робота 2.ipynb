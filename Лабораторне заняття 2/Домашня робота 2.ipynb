{
 "cells": [
  {
   "cell_type": "markdown",
   "metadata": {},
   "source": [
    "# Домашня робота №2"
   ]
  },
  {
   "cell_type": "markdown",
   "metadata": {},
   "source": [
    "## 1 Пароль\n",
    "Напишіть програму (функцію) для генерування випадкового пароля з такими обмеженнями:\n",
    "- пароль складається з рівно $10$ символів\n",
    "- пароль містить хоча б одну маленьку латинську літеру [a-z]\n",
    "- пароль містить хоча б одну велику латинську літеру [A-Z]\n",
    "- пароль містить хоча б одну цифру [0-9]\n",
    "- пароль містить хоча б один спеціальний символ [~!@#$%^&*()-_+=\\/{}[].,?<>:;]"
   ]
  },
  {
   "cell_type": "code",
   "execution_count": 1,
   "metadata": {
    "collapsed": true
   },
   "outputs": [],
   "source": [
    "import numpy as np\n",
    "\n",
    "def task_1():\n",
    "\n",
    "    def _app(lst_1, lst_2, n = 1):\n",
    "        lst_1.extend(np.random.choice(lst_2,n))\n",
    "\n",
    "    special_symbol = [i for i in \"~!@#$%^&*()-_+=\\/{}[].,?<>:;\"]\n",
    "    capital = [i for i in \"ABCDEFGHIJKLMNOPQRSTUVWXYZ\"]\n",
    "    letters = [i.lower() for i in capital]\n",
    "    numbers = [i for i in range(10)]\n",
    "    password = []\n",
    "    _app(password, special_symbol)\n",
    "    _app(password, capital)\n",
    "    _app(password, letters)\n",
    "    _app(password, numbers)\n",
    "    _app(password, special_symbol + capital + letters + numbers, 6)\n",
    "    np.random.shuffle(password)\n",
    "    res = \"\"\n",
    "    for i in password:\n",
    "        res += str(i)\n",
    "    print(\"Random password -- {}\".format(res))\n"
   ]
  },
  {
   "cell_type": "markdown",
   "metadata": {},
   "source": [
    "## 2 Герби в ряд\n",
    "Реалізуйте функцію для обчислення емпіричної та теоретичної імовірностей випадіння $k$ гербів (HEADS) підряд у серії з $n$ підкидань чесної монетки. Підрахуйте відповідні ймовірності для таких параметрів:\n",
    "- $k = 2, n = 10, 50, 100, 500, 1000, 5000, 10000$\n",
    "- $k = 3, n = 10, 50, 100, 500, 1000, 5000, 10000$\n",
    "\n",
    "**Зауваження.** Нехай $k = 2, n = 10$ та маємо таку послідовність результатів підкидання монети: $\\{ H, T, H, H, H, H, T, T, H, T \\}$. Тоді матимемо $3$ випадки випадіння двох гербів підряд та емпіричну ймовірність такої події $1/3$."
   ]
  },
  {
   "cell_type": "code",
   "execution_count": 2,
   "metadata": {
    "collapsed": true
   },
   "outputs": [],
   "source": [
    "import numpy as np\n",
    "def task_2(n,k):\n",
    "    print(\"Theoretical probability of {}-sequence is -- {}\".format(k,(1/2)**k))\n",
    "\n",
    "    def _parse(seq):\n",
    "        res = 0\n",
    "        ln = 0\n",
    "        for i in seq:\n",
    "            if i == \"A\":\n",
    "                ln += 1\n",
    "            else:\n",
    "                if ln >= k:\n",
    "                    res += ln - k + 1\n",
    "                ln = 0\n",
    "        return res\n",
    "\n",
    "\n",
    "    sequence = np.random.choice(['A','R'], p = [0.5, 0.5], size = n)\n",
    "    res = _parse(sequence)\n",
    "    print(\"Empirical probability of {}-sequence is -- {}\".format(k,res/(n-k+1)))\n",
    "\n",
    "task_2(10,2)\n",
    "\n"
   ]
  },
  {
   "cell_type": "markdown",
   "metadata": {},
   "source": [
    "## 3 Найбільше число\n",
    "Реалізуйте функцію підрахунку точної (теоретичної) імовірності того, що максимальне число після $n$ кидків звичайного грального кубика дорівнює $x\\_max$, для таких параметрів:\n",
    "- $n = 3, x\\_max = 6$\n",
    "- $n = 2, x\\_max = 3$\n",
    "- $n = 3, x\\_max = 5$\n",
    "\n",
    "Тобто, якщо $X_i, i = 1, \\ldots, n$, - число на $i$-му кидку кубика, а $X = \\max\\limits_{1 \\leq i \\leq n} X_i$, то потрібно знайти ймовірність $\\textbf{P} \\left( X = x\\_max \\right)$.\n",
    "\n",
    "Підрахуйте також емпіричні ймовірності відповідних подій у випадку $10000$ симуляцій.\n",
    "\n",
    "**Зауваження.** Якщо введені параметри не мають сенсу, то повертати $0$.\n",
    "Тобто, якщо вводиться $x\\_max < 1$ або $x\\_max > 6$."
   ]
  },
  {
   "cell_type": "code",
   "execution_count": 3,
   "metadata": {
    "collapsed": true
   },
   "outputs": [],
   "source": [
    "def task_3(n,x_max):\n",
    "    if x_max < 1 or x_max > 6:\n",
    "        tmp = list(input('Enter correct variables (n, x_max) -- '))\n",
    "        task_3(int(tmp[0]),int(tmp[1]))\n",
    "\n",
    "    print(\"Theoretical probability of max-{} is -- {}\".format(x_max, (1/6) * (x_max / 6) ** (n - 1)))\n",
    "\n",
    "    res = 0\n",
    "    for i in range(10000):\n",
    "        mx = max(np.random.choice([1,2,3,4,5,6], size = n, p = [1/6, 1/6, 1/6, 1/6, 1/6, 1/6]))\n",
    "        if mx == x_max:\n",
    "            res += 1\n",
    "\n",
    "    print(\"Empirical probability of max-{} is -- {}\".format(x_max, res/10000))\n",
    "\n",
    "task_3(3,6)\n"
   ]
  },
  {
   "cell_type": "markdown",
   "metadata": {},
   "source": [
    "## 4 Сума чисел\n",
    "Реалізуйте функцію підрахунку точної (теоретичної) імовірності того, що сума чисел після $n$ кидків звичайного грального кубика дорівнює $s$, для таких параметрів:\n",
    "- $n = 3, s = 13$\n",
    "- $n = 2, s = 5$\n",
    "- $n = 3, s = 7$\n",
    "\n",
    "Тобто, якщо $X_i, i = 1, \\ldots, n$, - число на $i$-му кидку кубика, а $X = \\sum\\limits_{i = 1}^{n} X_i$, то потрібно знайти ймовірність $\\textbf{P} \\left( X = s \\right)$.\n",
    "\n",
    "Підрахуйте також емпіричні ймовірності відповідних подій у випадку $10000$ симуляцій.\n",
    "\n",
    "**Зауваження.** Якщо введені параметри не мають сенсу, то повертати $0$.\n",
    "Наприклад, якщо при $n = 3$ вводиться $s < 3$ або $s > 18$."
   ]
  },
  {
   "cell_type": "code",
   "execution_count": 4,
   "metadata": {
    "collapsed": true
   },
   "outputs": [],
   "source": [
    "import math\n",
    "def task_4(n, s):\n",
    "    def part(n, k):         # We create all possible combinations len k, sum of which is n \n",
    "        def _part(n, k, pre):\n",
    "            if n <= 0:\n",
    "                return []\n",
    "            if k == 1:\n",
    "                if n <= pre:\n",
    "                    return [[n]]\n",
    "                return []\n",
    "            ret = []\n",
    "            for i in range(min(pre, n), 0, -1):\n",
    "                ret += [[i] + sub for sub in _part(n - i, k - 1, i)]\n",
    "            return ret\n",
    "\n",
    "        def _clear(lst):        # We delete all combinations where we use numbers different from 1...6 \n",
    "            res = []\n",
    "            for i in lst:\n",
    "                if any(a > 6 for a in i):\n",
    "                    pass\n",
    "                else:\n",
    "                    res.append(i)\n",
    "            return res\n",
    "\n",
    "        return _clear(_part(n, k, n))\n",
    "\n",
    "    num_fragmentation = part(s,n)\n",
    "    print(\"Theoretical probability that after {} flips we will get sum {} -- {}\".format(n,s,len(num_fragmentation)*\\\n",
    "                                                                                        (math.factorial(n))/(n**6)))\n",
    "\n",
    "    res = 0\n",
    "    for i in range(10000):\n",
    "        seq = np.random.choice([1, 2, 3, 4, 5, 6], size=n)\n",
    "        if sum(seq) == s:\n",
    "            res += 1\n",
    "    print(\"Empirical probability that after {} flips we will get sum {} -- {}\".format(n, s, res/10000))\n",
    "    \n",
    "task_4(3,13)"
   ]
  }
 ],
 "metadata": {
  "kernelspec": {
   "display_name": "Python 3",
   "language": "python",
   "name": "python3"
  },
  "language_info": {
   "codemirror_mode": {
    "name": "ipython",
    "version": 3
   },
   "file_extension": ".py",
   "mimetype": "text/x-python",
   "name": "python",
   "nbconvert_exporter": "python",
   "pygments_lexer": "ipython3",
   "version": "3.6.3"
  }
 },
 "nbformat": 4,
 "nbformat_minor": 1
}
